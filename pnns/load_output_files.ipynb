{
 "cells": [
  {
   "cell_type": "code",
   "execution_count": 1,
   "id": "814fd785",
   "metadata": {},
   "outputs": [],
   "source": [
    "import os\n",
    "from pathlib import Path\n",
    "import pandas as pd\n",
    "import matplotlib.pyplot as plt"
   ]
  },
  {
   "cell_type": "code",
   "execution_count": 2,
   "id": "1f686d82",
   "metadata": {},
   "outputs": [],
   "source": [
    "path = Path.home()/'Desktop/localizations_csv_05_07_2024'"
   ]
  },
  {
   "cell_type": "code",
   "execution_count": 3,
   "id": "ac2ae147",
   "metadata": {},
   "outputs": [],
   "source": [
    "files = os.listdir(path)\n",
    "dfs_dict = {}\n",
    "for f in files:\n",
    "    dfs_dict[f.split('_')[-1].split('.')[0]] = pd.read_csv(path/f, skiprows=0)"
   ]
  },
  {
   "cell_type": "code",
   "execution_count": 4,
   "id": "a7364e84",
   "metadata": {},
   "outputs": [
    {
     "data": {
      "text/html": [
       "<div>\n",
       "<style scoped>\n",
       "    .dataframe tbody tr th:only-of-type {\n",
       "        vertical-align: middle;\n",
       "    }\n",
       "\n",
       "    .dataframe tbody tr th {\n",
       "        vertical-align: top;\n",
       "    }\n",
       "\n",
       "    .dataframe thead th {\n",
       "        text-align: right;\n",
       "    }\n",
       "</style>\n",
       "<table border=\"1\" class=\"dataframe\">\n",
       "  <thead>\n",
       "    <tr style=\"text-align: right;\">\n",
       "      <th></th>\n",
       "      <th>X</th>\n",
       "      <th>Y</th>\n",
       "      <th>class</th>\n",
       "      <th>score</th>\n",
       "      <th>imgName</th>\n",
       "      <th>thr</th>\n",
       "      <th>rescore</th>\n",
       "    </tr>\n",
       "  </thead>\n",
       "  <tbody>\n",
       "    <tr>\n",
       "      <th>0</th>\n",
       "      <td>669.92480</td>\n",
       "      <td>258.63873</td>\n",
       "      <td>0</td>\n",
       "      <td>0.373123</td>\n",
       "      <td>C2-A_V1_1L_FITC_SB_Extended_scaled.tif</td>\n",
       "      <td>0.0</td>\n",
       "      <td>0.966092</td>\n",
       "    </tr>\n",
       "    <tr>\n",
       "      <th>1</th>\n",
       "      <td>747.12244</td>\n",
       "      <td>302.04987</td>\n",
       "      <td>0</td>\n",
       "      <td>0.437146</td>\n",
       "      <td>C2-A_V1_1L_FITC_SB_Extended_scaled.tif</td>\n",
       "      <td>0.0</td>\n",
       "      <td>0.925846</td>\n",
       "    </tr>\n",
       "    <tr>\n",
       "      <th>2</th>\n",
       "      <td>765.15680</td>\n",
       "      <td>383.98420</td>\n",
       "      <td>0</td>\n",
       "      <td>0.058679</td>\n",
       "      <td>C2-A_V1_1L_FITC_SB_Extended_scaled.tif</td>\n",
       "      <td>0.0</td>\n",
       "      <td>0.854059</td>\n",
       "    </tr>\n",
       "    <tr>\n",
       "      <th>3</th>\n",
       "      <td>604.81696</td>\n",
       "      <td>447.28574</td>\n",
       "      <td>0</td>\n",
       "      <td>0.697959</td>\n",
       "      <td>C2-A_V1_1L_FITC_SB_Extended_scaled.tif</td>\n",
       "      <td>0.0</td>\n",
       "      <td>0.942377</td>\n",
       "    </tr>\n",
       "    <tr>\n",
       "      <th>4</th>\n",
       "      <td>854.50507</td>\n",
       "      <td>495.32834</td>\n",
       "      <td>0</td>\n",
       "      <td>0.087413</td>\n",
       "      <td>C2-A_V1_1L_FITC_SB_Extended_scaled.tif</td>\n",
       "      <td>0.0</td>\n",
       "      <td>0.795043</td>\n",
       "    </tr>\n",
       "    <tr>\n",
       "      <th>...</th>\n",
       "      <td>...</td>\n",
       "      <td>...</td>\n",
       "      <td>...</td>\n",
       "      <td>...</td>\n",
       "      <td>...</td>\n",
       "      <td>...</td>\n",
       "      <td>...</td>\n",
       "    </tr>\n",
       "    <tr>\n",
       "      <th>125</th>\n",
       "      <td>588.45844</td>\n",
       "      <td>313.65546</td>\n",
       "      <td>0</td>\n",
       "      <td>0.439348</td>\n",
       "      <td>C2-A_V2M_1L_FITC_SB_Extended_scaled.tif</td>\n",
       "      <td>0.0</td>\n",
       "      <td>0.966564</td>\n",
       "    </tr>\n",
       "    <tr>\n",
       "      <th>126</th>\n",
       "      <td>319.87770</td>\n",
       "      <td>592.46120</td>\n",
       "      <td>0</td>\n",
       "      <td>0.064354</td>\n",
       "      <td>C2-A_V2M_1R_FITC_SB_Extended_scaled.tif</td>\n",
       "      <td>0.0</td>\n",
       "      <td>0.971356</td>\n",
       "    </tr>\n",
       "    <tr>\n",
       "      <th>127</th>\n",
       "      <td>611.27110</td>\n",
       "      <td>939.22595</td>\n",
       "      <td>0</td>\n",
       "      <td>0.318341</td>\n",
       "      <td>C2-A_V2M_1R_FITC_SB_Extended_scaled.tif</td>\n",
       "      <td>0.0</td>\n",
       "      <td>0.956499</td>\n",
       "    </tr>\n",
       "    <tr>\n",
       "      <th>128</th>\n",
       "      <td>872.25970</td>\n",
       "      <td>1068.52010</td>\n",
       "      <td>0</td>\n",
       "      <td>0.586433</td>\n",
       "      <td>C2-A_V2M_2L_FITC_SB_Extended_scaled.tif</td>\n",
       "      <td>0.0</td>\n",
       "      <td>0.945038</td>\n",
       "    </tr>\n",
       "    <tr>\n",
       "      <th>129</th>\n",
       "      <td>358.04602</td>\n",
       "      <td>729.38855</td>\n",
       "      <td>0</td>\n",
       "      <td>0.448556</td>\n",
       "      <td>C2-A_V2M_3L_FITC_SB_Extended_scaled.tif</td>\n",
       "      <td>0.0</td>\n",
       "      <td>0.971679</td>\n",
       "    </tr>\n",
       "  </tbody>\n",
       "</table>\n",
       "<p>130 rows × 7 columns</p>\n",
       "</div>"
      ],
      "text/plain": [
       "             X           Y  class     score  \\\n",
       "0    669.92480   258.63873      0  0.373123   \n",
       "1    747.12244   302.04987      0  0.437146   \n",
       "2    765.15680   383.98420      0  0.058679   \n",
       "3    604.81696   447.28574      0  0.697959   \n",
       "4    854.50507   495.32834      0  0.087413   \n",
       "..         ...         ...    ...       ...   \n",
       "125  588.45844   313.65546      0  0.439348   \n",
       "126  319.87770   592.46120      0  0.064354   \n",
       "127  611.27110   939.22595      0  0.318341   \n",
       "128  872.25970  1068.52010      0  0.586433   \n",
       "129  358.04602   729.38855      0  0.448556   \n",
       "\n",
       "                                     imgName  thr   rescore  \n",
       "0     C2-A_V1_1L_FITC_SB_Extended_scaled.tif  0.0  0.966092  \n",
       "1     C2-A_V1_1L_FITC_SB_Extended_scaled.tif  0.0  0.925846  \n",
       "2     C2-A_V1_1L_FITC_SB_Extended_scaled.tif  0.0  0.854059  \n",
       "3     C2-A_V1_1L_FITC_SB_Extended_scaled.tif  0.0  0.942377  \n",
       "4     C2-A_V1_1L_FITC_SB_Extended_scaled.tif  0.0  0.795043  \n",
       "..                                       ...  ...       ...  \n",
       "125  C2-A_V2M_1L_FITC_SB_Extended_scaled.tif  0.0  0.966564  \n",
       "126  C2-A_V2M_1R_FITC_SB_Extended_scaled.tif  0.0  0.971356  \n",
       "127  C2-A_V2M_1R_FITC_SB_Extended_scaled.tif  0.0  0.956499  \n",
       "128  C2-A_V2M_2L_FITC_SB_Extended_scaled.tif  0.0  0.945038  \n",
       "129  C2-A_V2M_3L_FITC_SB_Extended_scaled.tif  0.0  0.971679  \n",
       "\n",
       "[130 rows x 7 columns]"
      ]
     },
     "execution_count": 4,
     "metadata": {},
     "output_type": "execute_result"
    }
   ],
   "source": [
    "dfs_dict['A']"
   ]
  },
  {
   "cell_type": "code",
   "execution_count": 5,
   "id": "c41f0c36",
   "metadata": {},
   "outputs": [],
   "source": [
    "collated_score_array = []\n",
    "collated_rescore_array = []\n",
    "for df in dfs_dict.values():\n",
    "    collated_score_array = collated_score_array + df['score'].to_list()\n",
    "    collated_rescore_array = collated_rescore_array + df['rescore'].to_list()"
   ]
  },
  {
   "cell_type": "code",
   "execution_count": 6,
   "id": "a6fd1303",
   "metadata": {},
   "outputs": [
    {
     "data": {
      "image/png": "[encoded data removed]",
      "text/plain": [
       "<Figure size 640x480 with 1 Axes>"
      ]
     },
     "metadata": {},
     "output_type": "display_data"
    },
    {
     "data": {
      "image/png": "[encoded data removed]",
      "text/plain": [
       "<Figure size 640x480 with 1 Axes>"
      ]
     },
     "metadata": {},
     "output_type": "display_data"
    }
   ],
   "source": [
    "plt.hist(collated_score_array, bins=50)\n",
    "plt.title('score distribution across all images')\n",
    "plt.xlabel('score')\n",
    "plt.show()\n",
    "\n",
    "plt.hist(collated_rescore_array, bins=50)\n",
    "plt.title('rescore distribution across all images')\n",
    "plt.xlabel('rescore')\n",
    "plt.show()"
   ]
  },
  {
   "cell_type": "code",
   "execution_count": null,
   "id": "8dd85187",
   "metadata": {},
   "outputs": [],
   "source": []
  }
 ],
 "metadata": {
  "kernelspec": {
   "display_name": "Python [conda env:allendata]",
   "language": "python",
   "name": "conda-env-allendata-py"
  },
  "language_info": {
   "codemirror_mode": {
    "name": "ipython",
    "version": 3
   },
   "file_extension": ".py",
   "mimetype": "text/x-python",
   "name": "python",
   "nbconvert_exporter": "python",
   "pygments_lexer": "ipython3",
   "version": "3.7.15"
  }
 },
 "nbformat": 4,
 "nbformat_minor": 5
}
