{
 "cells": [
  {
   "cell_type": "code",
   "execution_count": 1,
   "id": "324ca6ad",
   "metadata": {},
   "outputs": [],
   "source": [
    "import os\n",
    "from pathlib import Path"
   ]
  },
  {
   "cell_type": "code",
   "execution_count": 2,
   "id": "8c81cb0a",
   "metadata": {},
   "outputs": [],
   "source": [
    "cwd = Path(os.getcwd())"
   ]
  },
  {
   "cell_type": "code",
   "execution_count": 9,
   "id": "bc1b4745",
   "metadata": {},
   "outputs": [
    {
     "data": {
      "text/plain": [
       "['V',\n",
       " 'U',\n",
       " 'A',\n",
       " 'G',\n",
       " 'X',\n",
       " 'N',\n",
       " 'K',\n",
       " 'J',\n",
       " 'P',\n",
       " 'H',\n",
       " 'F',\n",
       " 'W',\n",
       " 'I',\n",
       " 'D',\n",
       " 'R',\n",
       " 'C',\n",
       " 'O',\n",
       " 'Q',\n",
       " 'M',\n",
       " 'L',\n",
       " 'E',\n",
       " 'T',\n",
       " 'S',\n",
       " 'B']"
      ]
     },
     "execution_count": 9,
     "metadata": {},
     "output_type": "execute_result"
    }
   ],
   "source": [
    "dirs = os.listdir()\n",
    "dirs.remove('remove_files.ipynb')\n",
    "dirs.remove('.DS_Store')\n",
    "dirs.remove('.ipynb_checkpoints')\n",
    "dirs"
   ]
  },
  {
   "cell_type": "code",
   "execution_count": 10,
   "id": "3d75de94",
   "metadata": {},
   "outputs": [],
   "source": [
    "for dirr in dirs:\n",
    "    for file in os.listdir(cwd/dirr):\n",
    "        if 'FITC' not in file.split('_'):\n",
    "            os.remove(cwd/dirr/file)"
   ]
  },
  {
   "cell_type": "code",
   "execution_count": null,
   "id": "5c6cef8b",
   "metadata": {},
   "outputs": [],
   "source": []
  }
 ],
 "metadata": {
  "kernelspec": {
   "display_name": "Python 3 (ipykernel)",
   "language": "python",
   "name": "python3"
  },
  "language_info": {
   "codemirror_mode": {
    "name": "ipython",
    "version": 3
   },
   "file_extension": ".py",
   "mimetype": "text/x-python",
   "name": "python",
   "nbconvert_exporter": "python",
   "pygments_lexer": "ipython3",
   "version": "3.9.18"
  }
 },
 "nbformat": 4,
 "nbformat_minor": 5
}
